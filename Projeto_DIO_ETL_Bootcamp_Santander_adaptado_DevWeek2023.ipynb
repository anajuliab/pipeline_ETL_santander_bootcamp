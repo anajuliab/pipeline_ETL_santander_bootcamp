{
  "nbformat": 4,
  "nbformat_minor": 0,
  "metadata": {
    "colab": {
      "provenance": [],
      "collapsed_sections": [
        "kNuP0SDUZMBY"
      ],
      "include_colab_link": true
    },
    "kernelspec": {
      "name": "python3",
      "display_name": "Python 3"
    },
    "language_info": {
      "name": "python"
    }
  },
  "cells": [
    {
      "cell_type": "markdown",
      "metadata": {
        "id": "view-in-github",
        "colab_type": "text"
      },
      "source": [
        "<a href=\"https://colab.research.google.com/github/anajuliab/pipeline_ETL_santander_bootcamp/blob/main/Projeto_DIO_ETL_Bootcamp_Santander_adaptado_DevWeek2023.ipynb\" target=\"_parent\"><img src=\"https://colab.research.google.com/assets/colab-badge.svg\" alt=\"Open In Colab\"/></a>"
      ]
    },
    {
      "cell_type": "markdown",
      "source": [
        "# Santander Dev Week 2023 (ETL com Python): Bootcamp Santander - Projeto adaptado"
      ],
      "metadata": {
        "id": "BPJQsTCULaC-"
      }
    },
    {
      "cell_type": "markdown",
      "source": [
        "**Contexto:** O desafio para esse projeto seria pensar em um novo pipeline ETL.\n",
        "Dessa forma, pensei em gerar uma chave pix aleatória para o meu usuário.\n",
        "\n",
        "**Condições do Problema:**\n",
        "\n",
        "1. Você recebeu uma planilha simples, em formato CSV ('NOME_PLANILHA.csv'), com uma lista de IDs de usuário do banco:\n",
        "  ```\n",
        "  UserID\n",
        "  1\n",
        "  2\n",
        "  3\n",
        "  4\n",
        "  5\n",
        "  ```\n",
        "2. Seu trabalho é consumir o endpoint `GET https://sdw-2023-prd.up.railway.app/users/{id}` (API da Santander Dev Week 2023) para obter os dados de cada cliente.\n",
        "3. Depois de obter os dados dos clientes, você vai gerar uma chave pix aleatória, de 32 caracteres (dentre eles letras e números).\n",
        "4. Uma vez que a chave pix para cliente esteja pronta, você vai enviar essas informações de volta para a API, atualizando a lista de \"news\" de cada usuário usando o endpoint `PUT https://sdw-2023-prd.up.railway.app/users/{id}`.\n",
        "\n"
      ],
      "metadata": {
        "id": "k5fA5OrXt1a3"
      }
    },
    {
      "cell_type": "code",
      "source": [
        "# Repositório do Projeto: https://github.com/anajuliab/pipeline_ETL_santander_bootcamp\n",
        "# Repositório da API: https://github.com/digitalinnovationone/santander-dev-week-2023-api\n",
        "sdw2023_api_url = 'https://sdw-2023-prd.up.railway.app'"
      ],
      "metadata": {
        "id": "FKqLC_CWoYqR"
      },
      "execution_count": 28,
      "outputs": []
    },
    {
      "cell_type": "markdown",
      "source": [
        "## **E**xtract\n",
        "\n",
        "Extraia a lista de IDs de usuário a partir do arquivo CSV. Para cada ID, faça uma requisição GET para obter os dados do usuário correspondente."
      ],
      "metadata": {
        "id": "9dfI-o7gLRq9"
      }
    },
    {
      "cell_type": "code",
      "execution_count": 29,
      "metadata": {
        "id": "NYydpX_GLRCB",
        "colab": {
          "base_uri": "https://localhost:8080/"
        },
        "outputId": "31a26fe4-30c6-4020-be41-8fb0465f49de"
      },
      "outputs": [
        {
          "output_type": "stream",
          "name": "stdout",
          "text": [
            "[1718, 1719, 1720]\n"
          ]
        }
      ],
      "source": [
        "import pandas as pd\n",
        "\n",
        "df = pd.read_csv('desafio.csv')\n",
        "user_ids = df['User ID'].tolist()\n",
        "print(user_ids)"
      ]
    },
    {
      "cell_type": "code",
      "source": [
        "import requests\n",
        "import json\n",
        "\n",
        "def get_user(id):\n",
        "  response = requests.get(f'{sdw2023_api_url}/users/{id}')\n",
        "  return response.json() if response.status_code == 200 else None\n",
        "\n",
        "users = [user for id in user_ids if (user := get_user(id)) is not None]\n",
        "print(json.dumps(users, indent=2))"
      ],
      "metadata": {
        "id": "F5XOuCZGSTGw",
        "colab": {
          "base_uri": "https://localhost:8080/"
        },
        "outputId": "644f147f-4021-4138-d001-8e2be3098c4a"
      },
      "execution_count": 30,
      "outputs": [
        {
          "output_type": "stream",
          "name": "stdout",
          "text": [
            "[\n",
            "  {\n",
            "    \"id\": 1718,\n",
            "    \"name\": \"Pytherson\",\n",
            "    \"account\": {\n",
            "      \"id\": 1804,\n",
            "      \"number\": \"51111-1\",\n",
            "      \"agency\": \"0001\",\n",
            "      \"balance\": 0.0,\n",
            "      \"limit\": 2000.0\n",
            "    },\n",
            "    \"card\": {\n",
            "      \"id\": 1659,\n",
            "      \"number\": \"**** **** 4444 3333\",\n",
            "      \"limit\": 1000.0\n",
            "    },\n",
            "    \"features\": [],\n",
            "    \"news\": []\n",
            "  },\n",
            "  {\n",
            "    \"id\": 1719,\n",
            "    \"name\": \"Pip\",\n",
            "    \"account\": {\n",
            "      \"id\": 1805,\n",
            "      \"number\": \"51112-1\",\n",
            "      \"agency\": \"0001\",\n",
            "      \"balance\": 0.0,\n",
            "      \"limit\": 2000.0\n",
            "    },\n",
            "    \"card\": {\n",
            "      \"id\": 1660,\n",
            "      \"number\": \"**** **** 4445 3333\",\n",
            "      \"limit\": 1000.0\n",
            "    },\n",
            "    \"features\": [],\n",
            "    \"news\": []\n",
            "  },\n",
            "  {\n",
            "    \"id\": 1720,\n",
            "    \"name\": \"Pep\",\n",
            "    \"account\": {\n",
            "      \"id\": 1806,\n",
            "      \"number\": \"51113-1\",\n",
            "      \"agency\": \"0001\",\n",
            "      \"balance\": 0.0,\n",
            "      \"limit\": 2000.0\n",
            "    },\n",
            "    \"card\": {\n",
            "      \"id\": 1661,\n",
            "      \"number\": \"**** **** 4446 3333\",\n",
            "      \"limit\": 1000.0\n",
            "    },\n",
            "    \"features\": [],\n",
            "    \"news\": []\n",
            "  }\n",
            "]\n"
          ]
        }
      ]
    },
    {
      "cell_type": "markdown",
      "source": [
        "## **T**ransform\n",
        "\n",
        "Diferente do que foi exempificado na aula da DIO, eu vou criar uma sequência de dígitos e letras aleatórios (random) para criar uma chave pix aleatória.\n",
        "Como sabemos que a chave pix tem 32 caracteres, dentre eles números e letras, podemos utilizar essa informação para gerá-la.\n",
        "\n",
        "Penso em futuramente gerar um cartão online, com número verificador e data de vencimento."
      ],
      "metadata": {
        "id": "cWoqInB4TF1x"
      }
    },
    {
      "cell_type": "code",
      "source": [
        "import string\n",
        "import random\n",
        "\n",
        "def random_chave_pix(size=32, chars=string.ascii_uppercase + string.digits):\n",
        " return ''.join(random.choice(chars) for _ in range(size))\n",
        "\n",
        "\n",
        "\n",
        "for user in users:\n",
        "  news = random_chave_pix()\n",
        "  print(news)\n",
        "  user['news'].append({\n",
        "      \"icon\": \"https://digitalinnovationone.github.io/santander-dev-week-2023-api/icons/credit.svg\",\n",
        "      \"description\": news\n",
        "  })\n"
      ],
      "metadata": {
        "id": "n1w78kNxTrZY",
        "colab": {
          "base_uri": "https://localhost:8080/"
        },
        "outputId": "d989e568-72d4-4ddb-87b3-3f0ef194579f"
      },
      "execution_count": 31,
      "outputs": [
        {
          "output_type": "stream",
          "name": "stdout",
          "text": [
            "JWAEEEFPHFHI6H4IVXORKK6XRUY7OLSB\n",
            "A7GN2PQXXGI8L5SZBRVVO1TFGCQY215Y\n",
            "XVNWAQ5DI1CUE8UNF93DXS9GYAEO2QWU\n"
          ]
        }
      ]
    },
    {
      "cell_type": "markdown",
      "source": [
        "## **L**oad\n",
        "\n",
        "Atualize a lista de \"news\" de cada usuário na API com a nova chave pix gerada."
      ],
      "metadata": {
        "id": "kNuP0SDUZMBY"
      }
    },
    {
      "cell_type": "code",
      "source": [
        "def update_user(user):\n",
        "  response = requests.put(f\"{sdw2023_api_url}/users/{user['id']}\", json=user)\n",
        "  return True if response.status_code == 200 else False\n",
        "\n",
        "for user in users:\n",
        "  success = update_user(user)\n",
        "  print(f\"User {user['name']} updated? {success}!\")"
      ],
      "metadata": {
        "id": "YefWfYBoZMN2",
        "colab": {
          "base_uri": "https://localhost:8080/"
        },
        "outputId": "a4aa574e-506a-49bb-8366-7c3d2be30f89"
      },
      "execution_count": 32,
      "outputs": [
        {
          "output_type": "stream",
          "name": "stdout",
          "text": [
            "User Pytherson updated? True!\n",
            "User Pip updated? True!\n",
            "User Pep updated? True!\n"
          ]
        }
      ]
    }
  ]
}